{
 "cells": [
  {
   "cell_type": "code",
   "execution_count": 13,
   "id": "b1a528cb",
   "metadata": {},
   "outputs": [],
   "source": [
    "import numpy as np\n",
    "import pandas as pd\n",
    "import matplotlib.pyplot as plt\n",
    "import matplotlib.pyplot as plt\n",
    "\n",
    "from scipy import stats\n",
    "from tensorflow import keras\n",
    "from tensorflow.keras import layers\n",
    "from tensorflow.keras.models import Sequential\n",
    "from tensorflow.keras.layers import Dense\n",
    "from keras.callbacks import EarlyStopping\n",
    "from tensorflow.keras.layers import Dropout"
   ]
  },
  {
   "cell_type": "code",
   "execution_count": 14,
   "id": "a5c83a73",
   "metadata": {},
   "outputs": [],
   "source": [
    "path_train = \"https://raw.githubusercontent.com/codehaku/Machine_Learning/main/Titanic/train.csv\"\n",
    "path_test = \"https://raw.githubusercontent.com/codehaku/Machine_Learning/main/Titanic/test.csv\"\n",
    "dataframe0 = pd.read_csv(path_train)\n",
    "dataframe1 = pd.read_csv(path_test)\n",
    "\n",
    "# Set the maximum number of rows and columns to be displayed\n",
    "pd.set_option('display.max_rows', None)\n",
    "pd.set_option('display.max_columns', None)\n",
    "\n",
    "# Display the full DataFrame\n",
    "pd.options.display.width = 1000\n",
    "\n",
    "#print(dataframe0.head(100))"
   ]
  },
  {
   "cell_type": "code",
   "execution_count": 15,
   "id": "c3a473ab",
   "metadata": {},
   "outputs": [],
   "source": [
    "# Select only the numerical columns in the dataframe0\n",
    "numerical_columns = dataframe0.select_dtypes(include=[np.number]).columns.tolist()\n",
    "\n",
    "dataframe0 = dataframe0.drop(['Cabin', 'Name', 'Ticket', 'Embarked'], axis=1)\n",
    "dataframe0['Sex'] = dataframe0['Sex'].replace(['male','female'],[1,0])\n",
    "\n",
    "mean_age = dataframe0['Age'].mean()\n",
    "#print(mean_age)\n",
    "dataframe0['Age'].fillna(mean_age, inplace=True)\n",
    "#print(dataframe0.head(100))\n",
    "\n",
    "# Perform one-hot encoding on the Pclass column\n",
    "pclass_encoded = pd.get_dummies(dataframe0['Pclass'], prefix='class')\n",
    "dataframe0 = pd.concat([dataframe0, pclass_encoded], axis=1)\n",
    "dataframe0 = dataframe0.drop(['Pclass'], axis=1)\n",
    "#print(dataframe0.head(100))\n",
    "\n",
    "# Perform binary encoding on the SibSp and Parch columns\n",
    "dataframe0['SibSp_binary'] = dataframe0['SibSp'].apply(lambda x: 1 if x > 0 else 0)\n",
    "dataframe0['Parch_binary'] = dataframe0['Parch'].apply(lambda x: 1 if x > 0 else 0)\n",
    "dataframe0 = dataframe0.drop(['SibSp', 'Parch'], axis=1)\n",
    "#print(dataframe0.head(10))"
   ]
  },
  {
   "cell_type": "code",
   "execution_count": 4,
   "id": "6455ce4b",
   "metadata": {},
   "outputs": [
    {
     "name": "stdout",
     "output_type": "stream",
     "text": [
      "Epoch 1/100\n",
      "18/18 [==============================] - 4s 56ms/step - loss: 1.2098 - accuracy: 0.5614 - val_loss: 1.0601 - val_accuracy: 0.5804\n",
      "Epoch 2/100\n",
      "18/18 [==============================] - 0s 12ms/step - loss: 0.9316 - accuracy: 0.6333 - val_loss: 0.8383 - val_accuracy: 0.6084\n",
      "Epoch 3/100\n",
      "18/18 [==============================] - 0s 12ms/step - loss: 0.8022 - accuracy: 0.6140 - val_loss: 0.7270 - val_accuracy: 0.6224\n",
      "Epoch 4/100\n",
      "18/18 [==============================] - 0s 11ms/step - loss: 0.8217 - accuracy: 0.5737 - val_loss: 0.6498 - val_accuracy: 0.6224\n",
      "Epoch 5/100\n",
      "18/18 [==============================] - 0s 12ms/step - loss: 0.6780 - accuracy: 0.6316 - val_loss: 0.6160 - val_accuracy: 0.6154\n",
      "Epoch 6/100\n",
      "18/18 [==============================] - 0s 11ms/step - loss: 0.7595 - accuracy: 0.6579 - val_loss: 0.6142 - val_accuracy: 0.6364\n",
      "Epoch 7/100\n",
      "18/18 [==============================] - 0s 12ms/step - loss: 0.7238 - accuracy: 0.6439 - val_loss: 0.6163 - val_accuracy: 0.6224\n",
      "Epoch 8/100\n",
      "18/18 [==============================] - 0s 12ms/step - loss: 0.6609 - accuracy: 0.6386 - val_loss: 0.6177 - val_accuracy: 0.6154\n",
      "Epoch 9/100\n",
      "18/18 [==============================] - 0s 11ms/step - loss: 0.6426 - accuracy: 0.6333 - val_loss: 0.6180 - val_accuracy: 0.6364\n",
      "Epoch 10/100\n",
      "18/18 [==============================] - 0s 11ms/step - loss: 0.6519 - accuracy: 0.6386 - val_loss: 0.6166 - val_accuracy: 0.6643\n",
      "Epoch 11/100\n",
      "18/18 [==============================] - 0s 12ms/step - loss: 0.6204 - accuracy: 0.6702 - val_loss: 0.6165 - val_accuracy: 0.6503\n",
      "Epoch 12/100\n",
      "18/18 [==============================] - 0s 15ms/step - loss: 0.6333 - accuracy: 0.6789 - val_loss: 0.6158 - val_accuracy: 0.6503\n",
      "Epoch 13/100\n",
      "18/18 [==============================] - 0s 15ms/step - loss: 0.6410 - accuracy: 0.6719 - val_loss: 0.6162 - val_accuracy: 0.6573\n",
      "Epoch 14/100\n",
      "18/18 [==============================] - 0s 13ms/step - loss: 0.6325 - accuracy: 0.6596 - val_loss: 0.6152 - val_accuracy: 0.6503\n",
      "Epoch 15/100\n",
      "18/18 [==============================] - 0s 18ms/step - loss: 0.6653 - accuracy: 0.6807 - val_loss: 0.6152 - val_accuracy: 0.6573\n",
      "Epoch 16/100\n",
      "18/18 [==============================] - 0s 16ms/step - loss: 0.6536 - accuracy: 0.6667 - val_loss: 0.6163 - val_accuracy: 0.6643\n",
      "23/23 [==============================] - 0s 6ms/step - loss: 0.6018 - accuracy: 0.6900\n",
      "Test Loss Train: [0.6017581820487976, 0.6900420784950256]\n",
      "6/6 [==============================] - 0s 7ms/step - loss: 0.6326 - accuracy: 0.6180\n",
      "Test Loss Test: [0.6325842142105103, 0.617977499961853]\n"
     ]
    }
   ],
   "source": [
    "# split training and testing data\n",
    "\n",
    "train_data = dataframe0.sample(frac=0.8, random_state=0)\n",
    "test_data = dataframe0.drop(train_data.index)\n",
    "\n",
    "# training i/p o/p and testing i/p o/p\n",
    "\n",
    "train_input = train_data[['Sex', 'Age', 'Fare', 'class_1','class_2', 'class_3', 'SibSp_binary', 'Parch_binary']]\n",
    "train_output = train_data[['Survived']]\n",
    "\n",
    "test_input = test_data[['Sex', 'Age', 'Fare', 'class_1','class_2', 'class_3', 'SibSp_binary', 'Parch_binary']]\n",
    "test_output = test_data[['Survived']]\n",
    "\n",
    "# Define the model architecture\n",
    "model = Sequential()\n",
    "model.add(Dense(16, input_shape=(8,), activation='relu'))\n",
    "model.add(Dropout(0.2))\n",
    "model.add(Dense(8, activation='relu'))\n",
    "model.add(Dropout(0.2))\n",
    "model.add(Dense(1, activation='sigmoid'))\n",
    "\n",
    "# Compile the model\n",
    "model.compile(optimizer='adam', loss='binary_crossentropy', metrics=['accuracy']) # binary_crossentropy\n",
    "early_stopping = EarlyStopping(monitor='val_loss', patience=10)\n",
    "model.fit(train_input, train_output, validation_split=0.2, epochs=100, batch_size=32, callbacks=[early_stopping])\n",
    "\n",
    "test_loss_train = model.evaluate(train_input, train_output)\n",
    "print(\"Test Loss Train:\", test_loss_train)\n",
    "\n",
    "test_loss_test = model.evaluate(test_input, test_output)\n",
    "print(\"Test Loss Test:\", test_loss_test)"
   ]
  },
  {
   "cell_type": "code",
   "execution_count": 5,
   "id": "52d4642f",
   "metadata": {},
   "outputs": [],
   "source": [
    "dataframe1 = dataframe1.drop(['Cabin', 'Name', 'Ticket', 'Embarked'], axis=1)\n",
    "dataframe1['Sex'] = dataframe1['Sex'].replace(['male','female'],[1,0])\n",
    "\n",
    "mean_fare = dataframe1['Fare'].mean()\n",
    "dataframe1['Fare'].fillna(mean_fare, inplace=True)\n",
    "\n",
    "mean_age = dataframe1['Age'].mean()\n",
    "dataframe1['Age'].fillna(mean_age, inplace=True)\n",
    "\n",
    "# Perform one-hot encoding on the Pclass column\n",
    "pclass_encoded = pd.get_dummies(dataframe1['Pclass'], prefix='class')\n",
    "dataframe1 = pd.concat([dataframe1, pclass_encoded], axis=1)\n",
    "dataframe1 = dataframe1.drop(['Pclass'], axis=1)\n",
    "#print(dataframe1.head())\n",
    "\n",
    "# Perform binary encoding on the SibSp and Parch columns\n",
    "dataframe1['SibSp_binary'] = dataframe1['SibSp'].apply(lambda x: 1 if x > 0 else 0)\n",
    "dataframe1['Parch_binary'] = dataframe1['Parch'].apply(lambda x: 1 if x > 0 else 0)\n",
    "dataframe1 = dataframe1.drop(['SibSp', 'Parch'], axis=1)\n",
    "#print(dataframe1.head())"
   ]
  },
  {
   "cell_type": "code",
   "execution_count": 6,
   "id": "8f8a7fbf",
   "metadata": {},
   "outputs": [
    {
     "name": "stdout",
     "output_type": "stream",
     "text": [
      "14/14 [==============================] - 0s 4ms/step\n",
      "14/14 [==============================] - 0s 5ms/step\n"
     ]
    }
   ],
   "source": [
    "test_ext_data = dataframe1\n",
    "\n",
    "test_ext_input = test_ext_data[['Sex', 'Age', 'Fare', 'class_1','class_2', 'class_3', 'SibSp_binary', 'Parch_binary']]\n",
    "\n",
    "# Get predictions for test data\n",
    "test_predictions = model.predict(test_ext_input)\n",
    "\n",
    "# Add predictions to the test dataframe\n",
    "dataframe1['Survival Prediction'] = test_predictions.flatten()\n",
    "\n",
    "predictions = np.round(model.predict(test_ext_input)).astype(int)\n",
    "\n",
    "# Display the updated dataframe\n",
    "#print(dataframe1.head(500))"
   ]
  },
  {
   "cell_type": "code",
   "execution_count": 7,
   "id": "238111c5",
   "metadata": {},
   "outputs": [
    {
     "name": "stdout",
     "output_type": "stream",
     "text": [
      "14/14 [==============================] - 0s 4ms/step\n",
      "   PassengerId  Sex   Age     Fare  class_1  class_2  class_3  SibSp_binary  Parch_binary  Survival Prediction  Survived\n",
      "0          892    1  34.5   7.8292        0        0        1             0             0             0.231890         0\n",
      "1          893    0  47.0   7.0000        0        0        1             1             0             0.172817         0\n",
      "2          894    1  62.0   9.6875        0        1        0             0             0             0.109049         0\n",
      "3          895    1  27.0   8.6625        0        0        1             0             0             0.303387         0\n",
      "4          896    0  22.0  12.2875        0        0        1             1             1             0.477071         0\n"
     ]
    }
   ],
   "source": [
    "predictions = model.predict(test_ext_input)\n",
    "predictions = np.round(predictions).astype(int)\n",
    "dataframe1['Survived'] = predictions\n",
    "print(dataframe1.head())"
   ]
  },
  {
   "cell_type": "code",
   "execution_count": 8,
   "id": "c9f890c2",
   "metadata": {},
   "outputs": [],
   "source": [
    "#display(dataframe1[['PassengerId', 'Survived']])"
   ]
  },
  {
   "cell_type": "code",
   "execution_count": 9,
   "id": "a0bf56ca",
   "metadata": {},
   "outputs": [],
   "source": [
    "# create a new DataFrame with only the PassengerId and Survived columns\n",
    "output_dataframe1 = dataframe1[['PassengerId', 'Survived']]\n",
    "\n",
    "# save the DataFrame to a CSV file\n",
    "output_dataframe1.to_csv('output6.csv', index=False)"
   ]
  },
  {
   "cell_type": "code",
   "execution_count": 10,
   "id": "9a454298",
   "metadata": {},
   "outputs": [
    {
     "name": "stdout",
     "output_type": "stream",
     "text": [
      "E:\\Work\\Code\\Projects\\Jupyter_Notebook\\Jupyter_Notebook\\Kaggle_Projects\\Titanic\n"
     ]
    }
   ],
   "source": [
    "import os\n",
    "print(os.getcwd())"
   ]
  },
  {
   "cell_type": "code",
   "execution_count": 16,
   "id": "fb95a05f",
   "metadata": {},
   "outputs": [
    {
     "data": {
      "text/plain": [
       "3"
      ]
     },
     "execution_count": 16,
     "metadata": {},
     "output_type": "execute_result"
    }
   ],
   "source": [
    "a = 1\n",
    "b = 2\n",
    "\n",
    "n = a + b\n",
    "n"
   ]
  },
  {
   "cell_type": "code",
   "execution_count": null,
   "id": "c9833059",
   "metadata": {},
   "outputs": [],
   "source": []
  }
 ],
 "metadata": {
  "kernelspec": {
   "display_name": "Python 3",
   "language": "python",
   "name": "python3"
  },
  "language_info": {
   "codemirror_mode": {
    "name": "ipython",
    "version": 3
   },
   "file_extension": ".py",
   "mimetype": "text/x-python",
   "name": "python",
   "nbconvert_exporter": "python",
   "pygments_lexer": "ipython3",
   "version": "3.8.11"
  }
 },
 "nbformat": 4,
 "nbformat_minor": 5
}
